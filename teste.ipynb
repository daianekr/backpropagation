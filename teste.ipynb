{
 "cells": [
  {
   "cell_type": "markdown",
   "metadata": {},
   "source": [
    "# Implementa e testa um Multi Layer Perceptron (MLP)"
   ]
  },
  {
   "cell_type": "code",
   "execution_count": 4,
   "metadata": {},
   "outputs": [],
   "source": [
    "import numpy as np\n",
    "import pandas as pd\n"
   ]
  },
  {
   "cell_type": "code",
   "execution_count": null,
   "metadata": {},
   "outputs": [],
   "source": [
    "def __init__(self):\n",
    "    self.dim_layers = dim_layers \n",
    "    self.num_layers = len(dim_layers)\n",
    "    self.parameters = self.initialize_parameters()\n",
    "\n",
    "def initialize_parameters(self):\n",
    "    parameters = {}\n",
    "    for i in range(1, self.num_layers):\n",
    "        parameters['W' + str(i)] = np.random.randn(self.dim_layers[i], self.dim_layers[i - 1]) * 0.01\n",
    "        parameters['b' + str(i)] = np.zeros((self.dim_layers[i], 1))\n",
    "    return parameters\n",
    "\n",
    "def relu(self, Z):\n",
    "    return np.maximum(0, Z)\n",
    "\n"
   ]
  }
 ],
 "metadata": {
  "kernelspec": {
   "display_name": "venv",
   "language": "python",
   "name": "python3"
  },
  "language_info": {
   "codemirror_mode": {
    "name": "ipython",
    "version": 3
   },
   "file_extension": ".py",
   "mimetype": "text/x-python",
   "name": "python",
   "nbconvert_exporter": "python",
   "pygments_lexer": "ipython3",
   "version": "3.12.1"
  }
 },
 "nbformat": 4,
 "nbformat_minor": 2
}
